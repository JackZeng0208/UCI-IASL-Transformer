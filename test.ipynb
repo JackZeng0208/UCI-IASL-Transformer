{
 "cells": [
  {
   "cell_type": "code",
   "execution_count": 1,
   "metadata": {},
   "outputs": [
    {
     "name": "stderr",
     "output_type": "stream",
     "text": [
      "/home/iasl-transformers/miniconda3/lib/python3.11/site-packages/tqdm/auto.py:21: TqdmWarning: IProgress not found. Please update jupyter and ipywidgets. See https://ipywidgets.readthedocs.io/en/stable/user_install.html\n",
      "  from .autonotebook import tqdm as notebook_tqdm\n",
      "Loading checkpoint shards: 100%|██████████| 2/2 [00:01<00:00,  1.65it/s]\n"
     ]
    },
    {
     "name": "stdout",
     "output_type": "stream",
     "text": [
      "Write an introduction about UCI: \n",
      "\n",
      "The University of California, Irvine (UCI) is a public research university located in Irvine, California, USA. It was established in 1965 and has since grown to become one of the top universities in the world. UCI is known for its academic excellence, innovative research, and diverse student body. With a strong focus on interdisciplinary collaboration and creativity, UCI has produced many notable alumni and has made significant contributions to various fields.\n",
      "\n",
      "The university offers a wide range of undergraduate and graduate degree programs in fields such as engineering, computer science, biological sciences, social sciences, and humanities. UCI is also home to numerous research centers and institutes, including the UCI Medical Center, which is one of the largest and most comprehensive medical centers in the United States.\n",
      "\n",
      "UCI has a strong commitment to sustainability and has been recognized for its efforts in reducing its carbon footprint. The university is also committed to diversity, equity, and inclusion, and has implemented various initiatives to promote these values.\n",
      "\n",
      "Overall, UCI is a premier institution of higher education that offers students a world-class education, cutting-edge research opportunities, and a vibrant campus community.\n"
     ]
    }
   ],
   "source": [
    "import torch\n",
    "from transformers import AutoModelForCausalLM, AutoTokenizer, LlamaForCausalLM\n",
    "\n",
    "torch.set_default_device('cuda')\n",
    "model = AutoModelForCausalLM.from_pretrained(\"meta-llama/Llama-2-7b-chat-hf\", torch_dtype=torch.bfloat16)\n",
    "tokenizer = AutoTokenizer.from_pretrained(\"meta-llama/Llama-2-7b-chat-hf\", torch_dtype=torch.bfloat16)\n",
    "inputs = tokenizer('Write an introduction about UCI: ', return_tensors=\"pt\", return_attention_mask=False)\n",
    "outputs = model.generate(**inputs, max_length=4096, eos_token_id = tokenizer.eos_token_id)\n",
    "text = tokenizer.decode(outputs[0], skip_special_tokens=True)\n",
    "print(text)"
   ]
  }
 ],
 "metadata": {
  "kernelspec": {
   "display_name": "base",
   "language": "python",
   "name": "python3"
  },
  "language_info": {
   "codemirror_mode": {
    "name": "ipython",
    "version": 3
   },
   "file_extension": ".py",
   "mimetype": "text/x-python",
   "name": "python",
   "nbconvert_exporter": "python",
   "pygments_lexer": "ipython3",
   "version": "3.11.5"
  }
 },
 "nbformat": 4,
 "nbformat_minor": 2
}
